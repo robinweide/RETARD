{
 "cells": [
  {
   "cell_type": "code",
   "execution_count": 26,
   "metadata": {
    "collapsed": false
   },
   "outputs": [],
   "source": [
    "import csv\n",
    "import numpy as np\n",
    "from statsmodels import robust"
   ]
  },
  {
   "cell_type": "code",
   "execution_count": 60,
   "metadata": {
    "collapsed": false
   },
   "outputs": [],
   "source": [
    "def getMedMad(path):\n",
    "    scoreList = []\n",
    "    scoreDict = {}\n",
    "    with open(path, 'rt') as csvfile:\n",
    "        dialect = csv.Sniffer().sniff(csvfile.read(1024))\n",
    "        csvfile.seek(0)\n",
    "        reader = csv.reader(csvfile, dialect)\n",
    "        for chrom, a, b, cov in reader:\n",
    "            length = int(float(b))-int(float(a))\n",
    "            for i in range(1,length+1):\n",
    "                scoreList.append(int(float(cov)))\n",
    "                scoreDict[chrom, str(int(int(float(a))+i))] = int(float(cov))\n",
    "    return([np.median(scoreList), robust.mad(scoreList)])"
   ]
  },
  {
   "cell_type": "markdown",
   "metadata": {},
   "source": [
    "# Idea\n",
    "1. load a blacklist-file\n",
    "1. expand bed\n",
    "1. check distribution\n",
    "1. get mean, mode, median, sd, mad"
   ]
  },
  {
   "cell_type": "markdown",
   "metadata": {},
   "source": [
    "## STE0072"
   ]
  },
  {
   "cell_type": "code",
   "execution_count": 90,
   "metadata": {
    "collapsed": false
   },
   "outputs": [],
   "source": [
    "blackLisPath = \"/Users/robinvanderweide/MEGA/Work/PhD/projects/rDNA/data/rDNA_bedfiles/STE0072/STE007212/STE007212_blacklist.sorted.bed\"\n",
    "RDNAalphaPath = \"/Users/robinvanderweide/MEGA/Work/PhD/projects/rDNA/data/rDNA_bedfiles/STE0072/STE007212/STE007212_RDNAalpha.sorted.bed\""
   ]
  },
  {
   "cell_type": "code",
   "execution_count": 91,
   "metadata": {
    "collapsed": false
   },
   "outputs": [
    {
     "data": {
      "text/plain": [
       "[3486.0, 37.0, 94.21621621621621, 6.5579034884967351]"
      ]
     },
     "execution_count": 91,
     "metadata": {},
     "output_type": "execute_result"
    }
   ],
   "source": [
    "RD = getMedMad(RDNAalphaPath)\n",
    "BL = getMedMad(blackLisPath)\n",
    "[RD[0],BL[0],RD[0]/BL[0],np.log2(RD[0]/BL[0])]"
   ]
  },
  {
   "cell_type": "code",
   "execution_count": 92,
   "metadata": {
    "collapsed": false
   },
   "outputs": [],
   "source": [
    "blackLisPath = \"/Users/robinvanderweide/MEGA/Work/PhD/projects/rDNA/data/rDNA_bedfiles/STE0072/BOXTELBLOOD0072/BOXTELBLOOD0072_blacklist.sorted.bed\"\n",
    "RDNAalphaPath = \"/Users/robinvanderweide/MEGA/Work/PhD/projects/rDNA/data/rDNA_bedfiles/STE0072/BOXTELBLOOD0072/BOXTELBLOOD0072_RDNAalpha.sorted.bed\""
   ]
  },
  {
   "cell_type": "code",
   "execution_count": 93,
   "metadata": {
    "collapsed": false
   },
   "outputs": [
    {
     "data": {
      "text/plain": [
       "[3512.5, 34.0, 103.30882352941177, 6.6908196687453119]"
      ]
     },
     "execution_count": 93,
     "metadata": {},
     "output_type": "execute_result"
    }
   ],
   "source": [
    "RD = getMedMad(RDNAalphaPath)\n",
    "BL = getMedMad(blackLisPath)\n",
    "[RD[0],BL[0],RD[0]/BL[0],np.log2(RD[0]/BL[0])]"
   ]
  },
  {
   "cell_type": "code",
   "execution_count": 109,
   "metadata": {
    "collapsed": false
   },
   "outputs": [
    {
     "data": {
      "text/plain": [
       "-0.13291618024857632"
      ]
     },
     "execution_count": 109,
     "metadata": {},
     "output_type": "execute_result"
    }
   ],
   "source": [
    "np.log2(94.21621621621621/103.30882352941177)"
   ]
  },
  {
   "cell_type": "markdown",
   "metadata": {},
   "source": [
    "## STE0100"
   ]
  },
  {
   "cell_type": "code",
   "execution_count": 94,
   "metadata": {
    "collapsed": false
   },
   "outputs": [],
   "source": [
    "blackLisPath = \"/Users/robinvanderweide/MEGA/Work/PhD/projects/rDNA/data/rDNA_bedfiles/STE0100/STE100CLONE/STE100CLONE_blacklist.sorted.bed\"\n",
    "RDNAalphaPath = \"/Users/robinvanderweide/MEGA/Work/PhD/projects/rDNA/data/rDNA_bedfiles/STE0100/STE100CLONE/STE100CLONE_RDNAalpha.sorted.bed\""
   ]
  },
  {
   "cell_type": "code",
   "execution_count": 95,
   "metadata": {
    "collapsed": false,
    "scrolled": true
   },
   "outputs": [
    {
     "data": {
      "text/plain": [
       "[2672.5, 35.0, 76.357142857142861, 6.2546912156628869]"
      ]
     },
     "execution_count": 95,
     "metadata": {},
     "output_type": "execute_result"
    }
   ],
   "source": [
    "RD = getMedMad(RDNAalphaPath)\n",
    "BL = getMedMad(blackLisPath)\n",
    "[RD[0],BL[0],RD[0]/BL[0],np.log2(RD[0]/BL[0])]"
   ]
  },
  {
   "cell_type": "code",
   "execution_count": 96,
   "metadata": {
    "collapsed": false
   },
   "outputs": [],
   "source": [
    "blackLisPath = \"/Users/robinvanderweide/MEGA/Work/PhD/projects/rDNA/data/rDNA_bedfiles/STE0100/STE100BLOOD/STE100BLOOD_blacklist.sorted.bed\"\n",
    "RDNAalphaPath = \"/Users/robinvanderweide/MEGA/Work/PhD/projects/rDNA/data/rDNA_bedfiles/STE0100/STE100BLOOD/STE100BLOOD_RDNAalpha.sorted.bed\""
   ]
  },
  {
   "cell_type": "code",
   "execution_count": 97,
   "metadata": {
    "collapsed": false
   },
   "outputs": [
    {
     "data": {
      "text/plain": [
       "[2879.0, 31.0, 92.870967741935488, 6.5371557631765596]"
      ]
     },
     "execution_count": 97,
     "metadata": {},
     "output_type": "execute_result"
    }
   ],
   "source": [
    "RD = getMedMad(RDNAalphaPath)\n",
    "BL = getMedMad(blackLisPath)\n",
    "[RD[0],BL[0],RD[0]/BL[0],np.log2(RD[0]/BL[0])]"
   ]
  },
  {
   "cell_type": "code",
   "execution_count": 110,
   "metadata": {
    "collapsed": false
   },
   "outputs": [
    {
     "data": {
      "text/plain": [
       "-0.28246454751367289"
      ]
     },
     "execution_count": 110,
     "metadata": {},
     "output_type": "execute_result"
    }
   ],
   "source": [
    "np.log2(76.357142857142861/92.870967741935488)"
   ]
  },
  {
   "cell_type": "markdown",
   "metadata": {},
   "source": [
    "## STE0106"
   ]
  },
  {
   "cell_type": "code",
   "execution_count": 98,
   "metadata": {
    "collapsed": false
   },
   "outputs": [],
   "source": [
    "blackLisPath = \"/Users/robinvanderweide/MEGA/Work/PhD/projects/rDNA/data/rDNA_bedfiles/STE0106/STE0106clone/STE0106clone_blacklist.sorted.bed\"\n",
    "RDNAalphaPath = \"/Users/robinvanderweide/MEGA/Work/PhD/projects/rDNA/data/rDNA_bedfiles/STE0106/STE0106clone/STE0106clone_RDNAalpha.sorted.bed\""
   ]
  },
  {
   "cell_type": "code",
   "execution_count": 99,
   "metadata": {
    "collapsed": false,
    "scrolled": true
   },
   "outputs": [
    {
     "data": {
      "text/plain": [
       "[5046.0, 43.0, 117.34883720930233, 6.8746597362742028]"
      ]
     },
     "execution_count": 99,
     "metadata": {},
     "output_type": "execute_result"
    }
   ],
   "source": [
    "RD = getMedMad(RDNAalphaPath)\n",
    "BL = getMedMad(blackLisPath)\n",
    "[RD[0],BL[0],RD[0]/BL[0],np.log2(RD[0]/BL[0])]"
   ]
  },
  {
   "cell_type": "code",
   "execution_count": 100,
   "metadata": {
    "collapsed": false
   },
   "outputs": [],
   "source": [
    "blackLisPath = \"/Users/robinvanderweide/MEGA/Work/PhD/projects/rDNA/data/rDNA_bedfiles/STE0106/STE0106blood/STE0106blood_blacklist.sorted.bed\"\n",
    "RDNAalphaPath = \"/Users/robinvanderweide/MEGA/Work/PhD/projects/rDNA/data/rDNA_bedfiles/STE0106/STE0106blood/STE0106blood_RDNAalpha.sorted.bed\""
   ]
  },
  {
   "cell_type": "code",
   "execution_count": 101,
   "metadata": {
    "collapsed": false,
    "scrolled": true
   },
   "outputs": [
    {
     "data": {
      "text/plain": [
       "[4554.5, 39.0, 116.78205128205128, 6.8676747472444397]"
      ]
     },
     "execution_count": 101,
     "metadata": {},
     "output_type": "execute_result"
    }
   ],
   "source": [
    "RD = getMedMad(RDNAalphaPath)\n",
    "BL = getMedMad(blackLisPath)\n",
    "[RD[0],BL[0],RD[0]/BL[0],np.log2(RD[0]/BL[0])]"
   ]
  },
  {
   "cell_type": "code",
   "execution_count": 111,
   "metadata": {
    "collapsed": false
   },
   "outputs": [
    {
     "data": {
      "text/plain": [
       "0.0069849890297632297"
      ]
     },
     "execution_count": 111,
     "metadata": {},
     "output_type": "execute_result"
    }
   ],
   "source": [
    "np.log2(117.34883720930233/116.78205128205128)"
   ]
  },
  {
   "cell_type": "markdown",
   "metadata": {},
   "source": [
    "## STE0111"
   ]
  },
  {
   "cell_type": "code",
   "execution_count": 102,
   "metadata": {
    "collapsed": false
   },
   "outputs": [],
   "source": [
    "blackLisPath = \"/Users/robinvanderweide/MEGA/Work/PhD/projects/rDNA/data/rDNA_bedfiles/STE0111/STE0111EP4/STE0111EP4_blacklist_mapped.sorted.bed\"\n",
    "RDNAalphaPath = \"/Users/robinvanderweide/MEGA/Work/PhD/projects/rDNA/data/rDNA_bedfiles/STE0111/STE0111EP4/STE0111EP4_RDNAalpha_mapped.sorted.bed\""
   ]
  },
  {
   "cell_type": "code",
   "execution_count": 103,
   "metadata": {
    "collapsed": false,
    "scrolled": true
   },
   "outputs": [
    {
     "data": {
      "text/plain": [
       "[6258.5, 48.0, 130.38541666666666, 7.026638705975337]"
      ]
     },
     "execution_count": 103,
     "metadata": {},
     "output_type": "execute_result"
    }
   ],
   "source": [
    "RD = getMedMad(RDNAalphaPath)\n",
    "BL = getMedMad(blackLisPath)\n",
    "[RD[0],BL[0],RD[0]/BL[0],np.log2(RD[0]/BL[0])]"
   ]
  },
  {
   "cell_type": "code",
   "execution_count": 104,
   "metadata": {
    "collapsed": false
   },
   "outputs": [],
   "source": [
    "blackLisPath = \"/Users/robinvanderweide/MEGA/Work/PhD/projects/rDNA/data/rDNA_bedfiles/STE0111/STE0111FP4/STE0111FP4_blacklist_mapped.sorted.bed\"\n",
    "RDNAalphaPath = \"/Users/robinvanderweide/MEGA/Work/PhD/projects/rDNA/data/rDNA_bedfiles/STE0111/STE0111FP4/STE0111FP4_RDNAalpha_mapped.sorted.bed\""
   ]
  },
  {
   "cell_type": "code",
   "execution_count": 105,
   "metadata": {
    "collapsed": false,
    "scrolled": true
   },
   "outputs": [
    {
     "data": {
      "text/plain": [
       "[7228.0, 46.0, 157.13043478260869, 7.2958188348075863]"
      ]
     },
     "execution_count": 105,
     "metadata": {},
     "output_type": "execute_result"
    }
   ],
   "source": [
    "RD = getMedMad(RDNAalphaPath)\n",
    "BL = getMedMad(blackLisPath)\n",
    "[RD[0],BL[0],RD[0]/BL[0],np.log2(RD[0]/BL[0])]"
   ]
  },
  {
   "cell_type": "code",
   "execution_count": 106,
   "metadata": {
    "collapsed": false
   },
   "outputs": [],
   "source": [
    "blackLisPath = \"/Users/robinvanderweide/MEGA/Work/PhD/projects/rDNA/data/rDNA_bedfiles/STE0111/STE0111BLOOD/STE0111BLOOD_blacklist_mapped.sorted.bed\"\n",
    "RDNAalphaPath = \"/Users/robinvanderweide/MEGA/Work/PhD/projects/rDNA/data/rDNA_bedfiles/STE0111/STE0111BLOOD/STE0111BLOOD_RDNAalpha_mapped.sorted.bed\""
   ]
  },
  {
   "cell_type": "code",
   "execution_count": 107,
   "metadata": {
    "collapsed": false
   },
   "outputs": [
    {
     "data": {
      "text/plain": [
       "[6536.0, 49.0, 133.38775510204081, 7.0594824240304748]"
      ]
     },
     "execution_count": 107,
     "metadata": {},
     "output_type": "execute_result"
    }
   ],
   "source": [
    "RD = getMedMad(RDNAalphaPath)\n",
    "BL = getMedMad(blackLisPath)\n",
    "[RD[0],BL[0],RD[0]/BL[0],np.log2(RD[0]/BL[0])]"
   ]
  },
  {
   "cell_type": "code",
   "execution_count": 112,
   "metadata": {
    "collapsed": false
   },
   "outputs": [
    {
     "data": {
      "text/plain": [
       "-0.032843718055138499"
      ]
     },
     "execution_count": 112,
     "metadata": {},
     "output_type": "execute_result"
    }
   ],
   "source": [
    "np.log2(130.38541666666666/133.38775510204081) #EP4"
   ]
  },
  {
   "cell_type": "code",
   "execution_count": 113,
   "metadata": {
    "collapsed": false
   },
   "outputs": [
    {
     "data": {
      "text/plain": [
       "0.23633641077711159"
      ]
     },
     "execution_count": 113,
     "metadata": {},
     "output_type": "execute_result"
    }
   ],
   "source": [
    "np.log2(157.13043478260869/133.38775510204081) #FP4"
   ]
  },
  {
   "cell_type": "code",
   "execution_count": null,
   "metadata": {
    "collapsed": true
   },
   "outputs": [],
   "source": []
  }
 ],
 "metadata": {
  "anaconda-cloud": {},
  "kernelspec": {
   "display_name": "Python [Root]",
   "language": "python",
   "name": "Python [Root]"
  },
  "language_info": {
   "codemirror_mode": {
    "name": "ipython",
    "version": 3
   },
   "file_extension": ".py",
   "mimetype": "text/x-python",
   "name": "python",
   "nbconvert_exporter": "python",
   "pygments_lexer": "ipython3",
   "version": "3.5.2"
  }
 },
 "nbformat": 4,
 "nbformat_minor": 0
}
